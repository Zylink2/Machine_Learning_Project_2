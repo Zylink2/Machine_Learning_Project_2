{
 "cells": [
  {
   "cell_type": "code",
   "execution_count": 1,
   "metadata": {},
   "outputs": [],
   "source": [
    "import pandas as pd\n",
    "import seaborn as sns\n",
    "import matplotlib.pyplot as plt\n",
    "%matplotlib inline\n",
    "%config InlineBackend.figure_format = 'retina'\n"
   ]
  },
  {
   "cell_type": "code",
   "execution_count": 76,
   "metadata": {},
   "outputs": [
    {
     "name": "stdout",
     "output_type": "stream",
     "text": [
      "pandas version = 1.5.2\n",
      "2024-02-13 17:32:59.661681\n"
     ]
    }
   ],
   "source": [
    "print(f\"pandas version = {pd.__version__}\")\n",
    "print(pd.Timestamp.now())"
   ]
  },
  {
   "cell_type": "code",
   "execution_count": 82,
   "metadata": {},
   "outputs": [
    {
     "data": {
      "text/html": [
       "<div>\n",
       "<style scoped>\n",
       "    .dataframe tbody tr th:only-of-type {\n",
       "        vertical-align: middle;\n",
       "    }\n",
       "\n",
       "    .dataframe tbody tr th {\n",
       "        vertical-align: top;\n",
       "    }\n",
       "\n",
       "    .dataframe thead th {\n",
       "        text-align: right;\n",
       "    }\n",
       "</style>\n",
       "<table border=\"1\" class=\"dataframe\">\n",
       "  <thead>\n",
       "    <tr style=\"text-align: right;\">\n",
       "      <th></th>\n",
       "      <th>YEAR</th>\n",
       "      <th>BUDGET_MONTH_DESC</th>\n",
       "      <th>GROUP_NAME</th>\n",
       "      <th>DUTY_NAME</th>\n",
       "      <th>PRODUCT_NAME</th>\n",
       "      <th>NET_TAX</th>\n",
       "      <th>UPDATE_DATE</th>\n",
       "    </tr>\n",
       "  </thead>\n",
       "  <tbody>\n",
       "    <tr>\n",
       "      <th>0</th>\n",
       "      <td>2563</td>\n",
       "      <td>ตุลาคม</td>\n",
       "      <td>ภาษีสุรา</td>\n",
       "      <td>สุรา</td>\n",
       "      <td>สุรา</td>\n",
       "      <td>1.787365e+04</td>\n",
       "      <td>2567-02-01</td>\n",
       "    </tr>\n",
       "    <tr>\n",
       "      <th>1</th>\n",
       "      <td>2563</td>\n",
       "      <td>ตุลาคม</td>\n",
       "      <td>ภาษีสุรา</td>\n",
       "      <td>สุรากลั่น</td>\n",
       "      <td>ชนิดอื่นๆ นอกจาก (1) สุราสามทับ</td>\n",
       "      <td>3.129089e+09</td>\n",
       "      <td>2567-02-01</td>\n",
       "    </tr>\n",
       "    <tr>\n",
       "      <th>2</th>\n",
       "      <td>2563</td>\n",
       "      <td>ตุลาคม</td>\n",
       "      <td>ภาษีสุรา</td>\n",
       "      <td>สุรากลั่น</td>\n",
       "      <td>สุรากลั่นชนิดสุราขาว</td>\n",
       "      <td>2.602494e+09</td>\n",
       "      <td>2567-02-01</td>\n",
       "    </tr>\n",
       "    <tr>\n",
       "      <th>3</th>\n",
       "      <td>2563</td>\n",
       "      <td>ตุลาคม</td>\n",
       "      <td>ภาษีสุรา</td>\n",
       "      <td>สุรากลั่น</td>\n",
       "      <td>สุราสามทับกรณีอื่นๆ นอกจากไปใช้ในการอุตสาหกรรม...</td>\n",
       "      <td>3.140866e+05</td>\n",
       "      <td>2567-02-01</td>\n",
       "    </tr>\n",
       "    <tr>\n",
       "      <th>4</th>\n",
       "      <td>2563</td>\n",
       "      <td>ตุลาคม</td>\n",
       "      <td>ภาษีสุรา</td>\n",
       "      <td>สุรากลั่น</td>\n",
       "      <td>สุราสามทับที่นำไปทำการแปลงสภาพ ทั้งนี้ ตามหลัก...</td>\n",
       "      <td>2.494863e+05</td>\n",
       "      <td>2567-02-01</td>\n",
       "    </tr>\n",
       "    <tr>\n",
       "      <th>...</th>\n",
       "      <td>...</td>\n",
       "      <td>...</td>\n",
       "      <td>...</td>\n",
       "      <td>...</td>\n",
       "      <td>...</td>\n",
       "      <td>...</td>\n",
       "      <td>...</td>\n",
       "    </tr>\n",
       "    <tr>\n",
       "      <th>580</th>\n",
       "      <td>2567</td>\n",
       "      <td>กุมภาพันธ์</td>\n",
       "      <td>ภาษีสุรา</td>\n",
       "      <td>สุรากลั่น</td>\n",
       "      <td>สุรากลั่นชนิดสุราขาว</td>\n",
       "      <td>3.065649e+08</td>\n",
       "      <td>2567-02-01</td>\n",
       "    </tr>\n",
       "    <tr>\n",
       "      <th>581</th>\n",
       "      <td>2567</td>\n",
       "      <td>กุมภาพันธ์</td>\n",
       "      <td>ภาษีสุรา</td>\n",
       "      <td>สุราแช่</td>\n",
       "      <td>สุราแช่ชนิดอื่นๆ</td>\n",
       "      <td>4.868985e+06</td>\n",
       "      <td>2567-02-01</td>\n",
       "    </tr>\n",
       "    <tr>\n",
       "      <th>582</th>\n",
       "      <td>2567</td>\n",
       "      <td>กุมภาพันธ์</td>\n",
       "      <td>ภาษีสุรา</td>\n",
       "      <td>สุราแช่</td>\n",
       "      <td>สุราแช่ผลไม้ที่มีราคาขายปลีกแนะนำไม่เกิน 1,000...</td>\n",
       "      <td>4.090500e+05</td>\n",
       "      <td>2567-02-01</td>\n",
       "    </tr>\n",
       "    <tr>\n",
       "      <th>583</th>\n",
       "      <td>2567</td>\n",
       "      <td>กุมภาพันธ์</td>\n",
       "      <td>ภาษีสุรา</td>\n",
       "      <td>สุราแช่</td>\n",
       "      <td>ไวน์และสปาร์กลิ้งไวน์ที่ทำจากองุ่นที่มีราคาขาย...</td>\n",
       "      <td>8.203034e+05</td>\n",
       "      <td>2567-02-01</td>\n",
       "    </tr>\n",
       "    <tr>\n",
       "      <th>584</th>\n",
       "      <td>2567</td>\n",
       "      <td>กุมภาพันธ์</td>\n",
       "      <td>ภาษีสุรา</td>\n",
       "      <td>สุราแช่</td>\n",
       "      <td>ไวน์และสปาร์กลิ้งไวน์ที่ทำจากองุ่นที่มีราคาขาย...</td>\n",
       "      <td>1.508463e+07</td>\n",
       "      <td>2567-02-01</td>\n",
       "    </tr>\n",
       "  </tbody>\n",
       "</table>\n",
       "<p>585 rows × 7 columns</p>\n",
       "</div>"
      ],
      "text/plain": [
       "     YEAR BUDGET_MONTH_DESC GROUP_NAME  DUTY_NAME  \\\n",
       "0    2563            ตุลาคม   ภาษีสุรา       สุรา   \n",
       "1    2563            ตุลาคม   ภาษีสุรา  สุรากลั่น   \n",
       "2    2563            ตุลาคม   ภาษีสุรา  สุรากลั่น   \n",
       "3    2563            ตุลาคม   ภาษีสุรา  สุรากลั่น   \n",
       "4    2563            ตุลาคม   ภาษีสุรา  สุรากลั่น   \n",
       "..    ...               ...        ...        ...   \n",
       "580  2567        กุมภาพันธ์   ภาษีสุรา  สุรากลั่น   \n",
       "581  2567        กุมภาพันธ์   ภาษีสุรา    สุราแช่   \n",
       "582  2567        กุมภาพันธ์   ภาษีสุรา    สุราแช่   \n",
       "583  2567        กุมภาพันธ์   ภาษีสุรา    สุราแช่   \n",
       "584  2567        กุมภาพันธ์   ภาษีสุรา    สุราแช่   \n",
       "\n",
       "                                          PRODUCT_NAME       NET_TAX  \\\n",
       "0                                                 สุรา  1.787365e+04   \n",
       "1                      ชนิดอื่นๆ นอกจาก (1) สุราสามทับ  3.129089e+09   \n",
       "2                                 สุรากลั่นชนิดสุราขาว  2.602494e+09   \n",
       "3    สุราสามทับกรณีอื่นๆ นอกจากไปใช้ในการอุตสาหกรรม...  3.140866e+05   \n",
       "4    สุราสามทับที่นำไปทำการแปลงสภาพ ทั้งนี้ ตามหลัก...  2.494863e+05   \n",
       "..                                                 ...           ...   \n",
       "580                               สุรากลั่นชนิดสุราขาว  3.065649e+08   \n",
       "581                                   สุราแช่ชนิดอื่นๆ  4.868985e+06   \n",
       "582  สุราแช่ผลไม้ที่มีราคาขายปลีกแนะนำไม่เกิน 1,000...  4.090500e+05   \n",
       "583  ไวน์และสปาร์กลิ้งไวน์ที่ทำจากองุ่นที่มีราคาขาย...  8.203034e+05   \n",
       "584  ไวน์และสปาร์กลิ้งไวน์ที่ทำจากองุ่นที่มีราคาขาย...  1.508463e+07   \n",
       "\n",
       "    UPDATE_DATE  \n",
       "0    2567-02-01  \n",
       "1    2567-02-01  \n",
       "2    2567-02-01  \n",
       "3    2567-02-01  \n",
       "4    2567-02-01  \n",
       "..          ...  \n",
       "580  2567-02-01  \n",
       "581  2567-02-01  \n",
       "582  2567-02-01  \n",
       "583  2567-02-01  \n",
       "584  2567-02-01  \n",
       "\n",
       "[585 rows x 7 columns]"
      ]
     },
     "execution_count": 82,
     "metadata": {},
     "output_type": "execute_result"
    }
   ],
   "source": [
    "alcohol_tax = pd.read_csv(\"https://catalog.excise.go.th/base/catalog/excise/file/03_0401.csv\",encoding=\"TIS-620\", date_parser=True)\n",
    "alcohol_tax.columns.str.strip()\n",
    "alcohol_tax.rename(columns={\"BUDGET_YEAR\":\"YEAR\", \"TAX_NETTAX_AMT\":\"NET_TAX\"}, inplace=True)\n",
    "alcohol_tax"
   ]
  },
  {
   "cell_type": "code",
   "execution_count": 95,
   "metadata": {},
   "outputs": [
    {
     "data": {
      "text/html": [
       "<div>\n",
       "<style scoped>\n",
       "    .dataframe tbody tr th:only-of-type {\n",
       "        vertical-align: middle;\n",
       "    }\n",
       "\n",
       "    .dataframe tbody tr th {\n",
       "        vertical-align: top;\n",
       "    }\n",
       "\n",
       "    .dataframe thead th {\n",
       "        text-align: right;\n",
       "    }\n",
       "</style>\n",
       "<table border=\"1\" class=\"dataframe\">\n",
       "  <thead>\n",
       "    <tr style=\"text-align: right;\">\n",
       "      <th></th>\n",
       "      <th>YEAR</th>\n",
       "      <th>NET_TAX</th>\n",
       "    </tr>\n",
       "  </thead>\n",
       "  <tbody>\n",
       "    <tr>\n",
       "      <th>0</th>\n",
       "      <td>2563</td>\n",
       "      <td>6.188731e+10</td>\n",
       "    </tr>\n",
       "    <tr>\n",
       "      <th>1</th>\n",
       "      <td>2564</td>\n",
       "      <td>5.962453e+10</td>\n",
       "    </tr>\n",
       "    <tr>\n",
       "      <th>2</th>\n",
       "      <td>2565</td>\n",
       "      <td>5.928510e+10</td>\n",
       "    </tr>\n",
       "    <tr>\n",
       "      <th>3</th>\n",
       "      <td>2566</td>\n",
       "      <td>6.428862e+10</td>\n",
       "    </tr>\n",
       "  </tbody>\n",
       "</table>\n",
       "</div>"
      ],
      "text/plain": [
       "   YEAR       NET_TAX\n",
       "0  2563  6.188731e+10\n",
       "1  2564  5.962453e+10\n",
       "2  2565  5.928510e+10\n",
       "3  2566  6.428862e+10"
      ]
     },
     "execution_count": 95,
     "metadata": {},
     "output_type": "execute_result"
    }
   ],
   "source": [
    "annual_tax = alcohol_tax[alcohol_tax[\"YEAR\"] != 2567].groupby(\"YEAR\").sum(numeric_only=True)\n",
    "annual_tax = annual_tax.reset_index().copy()\n",
    "annual_tax"
   ]
  },
  {
   "cell_type": "code",
   "execution_count": 97,
   "metadata": {},
   "outputs": [
    {
     "name": "stdout",
     "output_type": "stream",
     "text": [
      "60000000000\n"
     ]
    }
   ],
   "source": [
    "print(6*(10**10))"
   ]
  },
  {
   "cell_type": "code",
   "execution_count": 110,
   "metadata": {},
   "outputs": [
    {
     "data": {
      "text/plain": [
       "['deepskyblue', 'lightgrey', 'lightgrey', 'deepskyblue']"
      ]
     },
     "execution_count": 110,
     "metadata": {},
     "output_type": "execute_result"
    }
   ],
   "source": [
    "colors = [ \"deepskyblue\" if net_tax > 6*(10**10) else \"lightgrey\" for net_tax in annual_tax[\"NET_TAX\"].value_counts().index]\n",
    "colors\n"
   ]
  },
  {
   "cell_type": "code",
   "execution_count": 111,
   "metadata": {},
   "outputs": [
    {
     "data": {
      "image/png": "[encoded data removed]",
      "text/plain": [
       "<Figure size 800x500 with 1 Axes>"
      ]
     },
     "metadata": {
      "image/png": {
       "height": 448,
       "width": 736
      }
     },
     "output_type": "display_data"
    }
   ],
   "source": [
    "plt.figure(figsize=(8, 5))\n",
    "sns.barplot(data=annual_tax, x=\"YEAR\", y=\"NET_TAX\", palette=colors)\n",
    "plt.yscale('log')\n",
    "plt.title(\"\")\n"
   ]
  },
  {
   "cell_type": "code",
   "execution_count": 21,
   "metadata": {},
   "outputs": [
    {
     "data": {
      "text/html": [
       "<div>\n",
       "<style scoped>\n",
       "    .dataframe tbody tr th:only-of-type {\n",
       "        vertical-align: middle;\n",
       "    }\n",
       "\n",
       "    .dataframe tbody tr th {\n",
       "        vertical-align: top;\n",
       "    }\n",
       "\n",
       "    .dataframe thead th {\n",
       "        text-align: right;\n",
       "    }\n",
       "</style>\n",
       "<table border=\"1\" class=\"dataframe\">\n",
       "  <thead>\n",
       "    <tr style=\"text-align: right;\">\n",
       "      <th></th>\n",
       "      <th>Country Name</th>\n",
       "      <th>Country Code</th>\n",
       "      <th>Indicator Name</th>\n",
       "      <th>Indicator Code</th>\n",
       "      <th>1960</th>\n",
       "      <th>1961</th>\n",
       "      <th>1962</th>\n",
       "      <th>1963</th>\n",
       "      <th>1964</th>\n",
       "      <th>1965</th>\n",
       "      <th>...</th>\n",
       "      <th>2013</th>\n",
       "      <th>2014</th>\n",
       "      <th>2015</th>\n",
       "      <th>2016</th>\n",
       "      <th>2017</th>\n",
       "      <th>2018</th>\n",
       "      <th>2019</th>\n",
       "      <th>2020</th>\n",
       "      <th>2021</th>\n",
       "      <th>2022</th>\n",
       "    </tr>\n",
       "  </thead>\n",
       "  <tbody>\n",
       "    <tr>\n",
       "      <th>30</th>\n",
       "      <td>ประเทศไทย</td>\n",
       "      <td>THA</td>\n",
       "      <td>จีเอ็นไอ (รายได้มวลรวมประชาชาติ) วิธี Atlas (เ...</td>\n",
       "      <td>NY.GNP.ATLS.CD</td>\n",
       "      <td>NaN</td>\n",
       "      <td>NaN</td>\n",
       "      <td>3.282279e+09</td>\n",
       "      <td>3.595887e+09</td>\n",
       "      <td>3.882772e+09</td>\n",
       "      <td>4.324261e+09</td>\n",
       "      <td>...</td>\n",
       "      <td>3.899966e+11</td>\n",
       "      <td>3.942963e+11</td>\n",
       "      <td>3.920549e+11</td>\n",
       "      <td>3.932711e+11</td>\n",
       "      <td>4.129652e+11</td>\n",
       "      <td>4.587927e+11</td>\n",
       "      <td>5.047086e+11</td>\n",
       "      <td>4.942879e+11</td>\n",
       "      <td>5.073807e+11</td>\n",
       "      <td>5.184390e+11</td>\n",
       "    </tr>\n",
       "    <tr>\n",
       "      <th>34</th>\n",
       "      <td>ประเทศไทย</td>\n",
       "      <td>THA</td>\n",
       "      <td>จีดีพี (เป็น US$ ปัจจุบัน)</td>\n",
       "      <td>NY.GDP.MKTP.CD</td>\n",
       "      <td>2.760751e+09</td>\n",
       "      <td>3.034038e+09</td>\n",
       "      <td>3.308913e+09</td>\n",
       "      <td>3.540403e+09</td>\n",
       "      <td>3.889130e+09</td>\n",
       "      <td>4.388938e+09</td>\n",
       "      <td>...</td>\n",
       "      <td>4.203337e+11</td>\n",
       "      <td>4.073390e+11</td>\n",
       "      <td>4.012962e+11</td>\n",
       "      <td>4.133663e+11</td>\n",
       "      <td>4.563568e+11</td>\n",
       "      <td>5.067542e+11</td>\n",
       "      <td>5.439767e+11</td>\n",
       "      <td>5.004573e+11</td>\n",
       "      <td>5.055681e+11</td>\n",
       "      <td>4.954233e+11</td>\n",
       "    </tr>\n",
       "  </tbody>\n",
       "</table>\n",
       "<p>2 rows × 67 columns</p>\n",
       "</div>"
      ],
      "text/plain": [
       "   Country Name Country Code  \\\n",
       "30    ประเทศไทย          THA   \n",
       "34    ประเทศไทย          THA   \n",
       "\n",
       "                                       Indicator Name  Indicator Code  \\\n",
       "30  จีเอ็นไอ (รายได้มวลรวมประชาชาติ) วิธี Atlas (เ...  NY.GNP.ATLS.CD   \n",
       "34                         จีดีพี (เป็น US$ ปัจจุบัน)  NY.GDP.MKTP.CD   \n",
       "\n",
       "            1960          1961          1962          1963          1964  \\\n",
       "30           NaN           NaN  3.282279e+09  3.595887e+09  3.882772e+09   \n",
       "34  2.760751e+09  3.034038e+09  3.308913e+09  3.540403e+09  3.889130e+09   \n",
       "\n",
       "            1965  ...          2013          2014          2015          2016  \\\n",
       "30  4.324261e+09  ...  3.899966e+11  3.942963e+11  3.920549e+11  3.932711e+11   \n",
       "34  4.388938e+09  ...  4.203337e+11  4.073390e+11  4.012962e+11  4.133663e+11   \n",
       "\n",
       "            2017          2018          2019          2020          2021  \\\n",
       "30  4.129652e+11  4.587927e+11  5.047086e+11  4.942879e+11  5.073807e+11   \n",
       "34  4.563568e+11  5.067542e+11  5.439767e+11  5.004573e+11  5.055681e+11   \n",
       "\n",
       "            2022  \n",
       "30  5.184390e+11  \n",
       "34  4.954233e+11  \n",
       "\n",
       "[2 rows x 67 columns]"
      ]
     },
     "execution_count": 21,
     "metadata": {},
     "output_type": "execute_result"
    }
   ],
   "source": [
    "gdp = pd.read_excel(\"https://api.worldbank.org/v2/th/country/THA?downloadformat=excel\", skiprows=3)\n",
    "gdp.loc[[30,34]]"
   ]
  },
  {
   "cell_type": "code",
   "execution_count": null,
   "metadata": {},
   "outputs": [],
   "source": []
  },
  {
   "cell_type": "code",
   "execution_count": null,
   "metadata": {},
   "outputs": [],
   "source": []
  }
 ],
 "metadata": {
  "kernelspec": {
   "display_name": "base",
   "language": "python",
   "name": "python3"
  },
  "language_info": {
   "codemirror_mode": {
    "name": "ipython",
    "version": 3
   },
   "file_extension": ".py",
   "mimetype": "text/x-python",
   "name": "python",
   "nbconvert_exporter": "python",
   "pygments_lexer": "ipython3",
   "version": "3.8.15"
  }
 },
 "nbformat": 4,
 "nbformat_minor": 2
}
